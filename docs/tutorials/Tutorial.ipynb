{
 "cells": [
  {
   "cell_type": "markdown",
   "source": [
    "# AMBER - main.py\n",
    "## Import Statements\n",
    "Specify the path to the package avoids bugs when running on cluster. Import the necessary packages and modules."
   ],
   "metadata": {
    "collapsed": false
   }
  },
  {
   "cell_type": "code",
   "execution_count": null,
   "outputs": [],
   "source": [
    "import sys\n",
    "sys.path.insert(0, '/PHShome/lk001/.conda/envs/amberenv/lib/python3.9/site-packages') #cluster\n",
    "import amber\n",
    "import numpy as np\n",
    "import random\n",
    "import time\n",
    "import os\n",
    "print('Current working directory:', os.getcwd())\n",
    "#print the directory of amber and version\n",
    "print('Amber directory:', amber.__file__)\n",
    "print('Amber version:', amber.__version__)"
   ],
   "metadata": {
    "collapsed": false
   }
  },
  {
   "cell_type": "markdown",
   "source": [
    "## CONFIGURATION file\n",
    "Make sur the config file is give and read the config file. Store it in a class called config. Set up the random seed for the simulation."
   ],
   "metadata": {
    "collapsed": false
   }
  },
  {
   "cell_type": "code",
   "execution_count": null,
   "outputs": [],
   "source": [
    "if len(sys.argv) > 1:\n",
    "    config_file = sys.argv[1]\n",
    "else:\n",
    "    raise ValueError('No config file specified')\n",
    "\n",
    "config_dict = amber.read_config_file(config_file)\n",
    "config = amber.Config(config_dict)\n",
    "print('Config file: ', '-'*50)\n",
    "\n",
    "#set up the seed for the simulation\n",
    "seed = config.seed\n",
    "print('python version', sys.version)\n",
    "print('Config file', config_file)\n",
    "print('seed', seed)\n",
    "\n",
    "np.random.seed(seed)\n",
    "random.seed(seed)\n",
    "\n",
    "for key, value in config_dict.items():\n",
    "    print(key, value)"
   ],
   "metadata": {
    "collapsed": false
   }
  },
  {
   "cell_type": "markdown",
   "source": [
    "## Setting up the simulation\n",
    "You first need to create the instance of the World class. This class contains all the information about the simulation. It contains the voxels, the cells, the vasculature, the molecules, etc. It is the geometry of the simulation. You can then add normal cells in all voxels and tumor cells in the center of the geometry."
   ],
   "metadata": {
    "collapsed": false
   }
  },
  {
   "cell_type": "code",
   "execution_count": null,
   "outputs": [],
   "source": [
    "\n",
    "world = amber.World(config)\n",
    "\n",
    "#add cells to the voxels (Normal stroma cells and tumor cells)\n",
    "for i in range(world.total_number_of_voxels):\n",
    "    if i %10000 == 0: print('Adding healthy cells to voxel number: ', i, ' out of ', world.total_number_of_voxels)\n",
    "    for j in range(config.initial_number_healthy_cells):\n",
    "        cell = amber.Cell(config.radius_healthy_cells, cycle_hours=config.doubling_time_healthy, cycle_std=config.doubling_time_sd, radiosensitivity=config.radiosensitivity, o2_to_vitality_factor=config.o2_to_vitality_factor, type='NormalCell')\n",
    "        cell.time_spent_cycling = 0\n",
    "        world.voxel_list[i].add_cell(cell)\n",
    "\n",
    "points = amber.Sphere(config.tumor_initial_radius, [0, 0, 0]).generate_random_points(config.initial_number_tumor_cells)\n",
    "for i in range(config.initial_number_tumor_cells):\n",
    "    if i % 10000 == 0: print('Adding tumor cells ', i, ' out of ', config.initial_number_tumor_cells)\n",
    "    voxel = world.find_voxel(points[i])\n",
    "    voxel.add_cell(\n",
    "        amber.Cell(config.radius_tumor_cells, cycle_hours=config.doubling_time_tumor, cycle_std=config.doubling_time_sd, intra_radiosensitivity=config.intra_radiosensitivity, o2_to_vitality_factor=config.o2_to_vitality_factor, type='TumorCell'))"
   ],
   "metadata": {
    "collapsed": false
   }
  },
  {
   "cell_type": "markdown",
   "source": [
    "## Generate vasculature.\n",
    "Then we need to generate the vasculature. We use healthy vasculature generator implemented to do so. Tweaking the parameters will lead to a differentaly shaped vasculature. The oxygen distribution is then updated."
   ],
   "metadata": {
    "collapsed": false
   }
  },
  {
   "cell_type": "code",
   "execution_count": null,
   "outputs": [],
   "source": [
    "#generate vasculature and print related information\n",
    "world.generate_healthy_vasculature(config.vessel_number,\n",
    "            splitting_rate=0.5,\n",
    "            mult_macro_steps=2.0,\n",
    "            micro_steps=20,\n",
    "            weight_direction=2.0,\n",
    "            weight_vegf=0.9,\n",
    "            weight_pressure=0.0,\n",
    "            )\n",
    "world.update_volume_occupied_by_vessels()\n",
    "print('Relative volume occupied by vessels, ratio: ', 100*(world.measure_vasculature_volume()/(world.half_length*2)**3), '%')\n",
    "print('Length of vasculature: ', 100*(world.measure_vasculature_length()/(world.half_length*2)**3), 'mm/mm^3')\n",
    "print('Area of vasculature: ', 10*(world.measure_vasculature_area()/(world.half_length*2)**3), 'mm^2/mm^3')\n",
    "world.update_capillaries(o2_per_volume=config.o2_per_volume, diffusion_number=config.diffusion_number)"
   ],
   "metadata": {
    "collapsed": false
   }
  },
  {
   "cell_type": "markdown",
   "source": [
    "## Prepare the process of the simulation\n",
    "The process are the different steps that will be executed at each time step. The order of the process is important and can be chosen when inputing the list of the process to the simulator class. The simulator class is in charge of running the simulation and creating the output files."
   ],
   "metadata": {
    "collapsed": false
   }
  },
  {
   "cell_type": "code",
   "execution_count": null,
   "outputs": [],
   "source": [
    "\n",
    "#prepare the simulation\n",
    "end_time = config.endtime\n",
    "dt = config.dt\n",
    "\n",
    "celldivision = amber.CellDivision( config, 'cell_division', dt,\n",
    "                                        cycling_threshold=config.vitality_cycling_threshold,\n",
    "                                        pressure_threshold=config.pressure_threshold_division)\n",
    "\n",
    "celldeath = amber.CellDeath(config, 'cell_death', dt,\n",
    "                                        apoptosis_threshold=config.vitality_apoptosis_threshold,\n",
    "                                        apoptosis_probability=config.probability_apoptosis,\n",
    "                                        necrosis_threshold=config.vitality_necrosis_threshold,\n",
    "                                        necrosis_probability=config.probability_necrosis)\n",
    "\n",
    "cellaging = amber.CellAging(config, 'cell_aging', dt)\n",
    "\n",
    "cellmigration = amber.CellMigration(config, 'cell_migration', dt,\n",
    "                                        pressure_threshold=config.pressure_threshold_migration)\n",
    "\n",
    "update_cell_state = amber.UpdateCellOxygen(config, 'update_cell_state', dt,\n",
    "                                        voxel_half_length=(config.half_length_world/config.voxel_per_side),\n",
    "                                        effective_vessel_radius=config.effective_vessel_radius)\n",
    "\n",
    "update_molecules = amber.UpdateVoxelMolecules(config, 'update_molecules', dt,\n",
    "                                        VEGF_production_per_cell=config.VEGF_production_per_cell,\n",
    "                                        threshold_for_VEGF_production=config.o2_threshold_for_VEGF_production)\n",
    "\n",
    "update_vessels = amber.UpdateVasculature(config, 'update_vessels', dt,\n",
    "                                        killing_radius_threshold=config.radius_killing_threshold,\n",
    "                                        killing_length_threshold=config.length_killing_threshold,\n",
    "                                        o2_per_volume=config.o2_per_volume,\n",
    "                                        diffusion_number=config.diffusion_number,\n",
    "                                        splitting_rate=config.splitting_rate_vasculature,\n",
    "                                        macro_steps=config.macro_steps,\n",
    "                                        micro_steps=config.micro_steps,\n",
    "                                        weight_direction=config.weight_direction,\n",
    "                                        weight_vegf=config.weight_vegf,\n",
    "                                        weight_pressure=config.weight_pressure,\n",
    "                                        radius_pressure_sensitive=config.radius_pressure_sensitive)\n",
    "\n",
    "list_of_processes = [update_cell_state, celldivision, celldeath, update_molecules, cellaging, cellmigration, update_vessels]\n",
    "\n",
    "sim = amber.Simulator(config, list_of_processes, end_time, dt)"
   ],
   "metadata": {
    "collapsed": false
   }
  },
  {
   "cell_type": "markdown",
   "source": [
    "## Run the simulation\n",
    "There is only one step left, running everything!"
   ],
   "metadata": {
    "collapsed": false
   }
  },
  {
   "cell_type": "code",
   "execution_count": null,
   "outputs": [],
   "source": [
    "sim.run(world, video=config.show_time_steps)"
   ],
   "metadata": {
    "collapsed": false
   }
  }
 ],
 "metadata": {
  "kernelspec": {
   "display_name": "Python 3",
   "language": "python",
   "name": "python3"
  },
  "language_info": {
   "codemirror_mode": {
    "name": "ipython",
    "version": 2
   },
   "file_extension": ".py",
   "mimetype": "text/x-python",
   "name": "python",
   "nbconvert_exporter": "python",
   "pygments_lexer": "ipython2",
   "version": "2.7.6"
  }
 },
 "nbformat": 4,
 "nbformat_minor": 0
}
